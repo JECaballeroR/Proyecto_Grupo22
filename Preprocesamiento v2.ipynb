{
 "cells": [
  {
   "cell_type": "markdown",
   "id": "ea4927d3",
   "metadata": {},
   "source": [
    "<div >\n",
    "<img src = \"figs/dsa_banner.png\" />\n",
    "</div>"
   ]
  },
  {
   "cell_type": "markdown",
   "id": "8e55931d",
   "metadata": {},
   "source": [
    "# Preprocesamiento\n",
    "\n",
    "### Integrantes:\n",
    "    - Catalina García García\n",
    "    - Camilo Alejandro Grande Sánchez\n",
    "    - Jesús Alberto Parada Pérez\n",
    "    - Jorge Esteban Caballero Rodríguez\n"
   ]
  },
  {
   "cell_type": "code",
   "execution_count": 1,
   "id": "a421bda9",
   "metadata": {},
   "outputs": [],
   "source": [
    "import numpy as np\n",
    "import pandas as pd\n",
    "from sklearn.impute import SimpleImputer\n",
    "from datetime import datetime\n",
    "\n",
    "import warnings\n",
    "warnings.filterwarnings(\"ignore\")"
   ]
  },
  {
   "cell_type": "markdown",
   "id": "9b469c8b",
   "metadata": {},
   "source": [
    "## Carga de datos\n",
    "\n",
    "Se cargan los datos de las fuentes dadas:"
   ]
  },
  {
   "cell_type": "code",
   "execution_count": 2,
   "id": "b45bb0ff",
   "metadata": {},
   "outputs": [],
   "source": [
    "def cargar_datos(filename, nombre_base):\n",
    "    data = pd.read_excel(f\"data/{filename}\")\n",
    "    return data\n",
    "\n",
    "data = cargar_datos(\"Base perfilación de competencias_310823.xlsx\", \"Base de datos:\")    "
   ]
  },
  {
   "cell_type": "markdown",
   "id": "2eb6e4ee",
   "metadata": {},
   "source": [
    "## Mapeo Respuestas"
   ]
  },
  {
   "cell_type": "markdown",
   "id": "05e37628",
   "metadata": {},
   "source": [
    "Se hace la codificación y se encuentra que el instrumento tiene preguntas inversas/negativas donde la opción `Nunca` es **Siempre**, `A veces` es **Constantemente**, `Constantemente` es **A veces**, y `Siempre` es **Nunca**.\n",
    "\n",
    "Se procede a invertir estas preguntas."
   ]
  },
  {
   "cell_type": "code",
   "execution_count": 3,
   "id": "e50432a0",
   "metadata": {},
   "outputs": [],
   "source": [
    "# Mapear las respuestas a los valores numéricos\n",
    "mapeo_respuestas = {\n",
    "    \"Nunca\": 1,\n",
    "    \"A veces\": 2,\n",
    "    \"Constantemente\": 3,\n",
    "    \"Siempre\": 4\n",
    "}\n",
    "\n",
    "# Variables\n",
    "variables_p = ['p1', 'p2', 'p3', 'p4', #Creatividad e innovación\n",
    "               'p5', 'p6', 'p7', 'p8', # Resolucion de problemas\n",
    "               'p9', 'p10', 'p11', 'p12', # Pensamiento critico\n",
    "               'p13', 'p14', 'p15', 'p16', # Trabajo colaborativo\n",
    "               'p17', 'p18', 'p19', 'p20'] # Comunicación\n",
    "\n",
    "# Aplicar el mapeo a las columnas correspondientes\n",
    "for variable in variables_p:\n",
    "    data[variable] = data[variable].replace(mapeo_respuestas)"
   ]
  },
  {
   "cell_type": "markdown",
   "id": "2cdca698",
   "metadata": {},
   "source": [
    "Algunas preguntas por sus características son \"inversas/negativas\" por lo que hay que invertir \"su puntaje\""
   ]
  },
  {
   "cell_type": "code",
   "execution_count": 4,
   "id": "30f14dd5",
   "metadata": {},
   "outputs": [],
   "source": [
    "# Variables que deben invertirse\n",
    "variables_invertir = [\"p2\", \"p4\", \"p7\", \"p8\", \"p11\", \"p14\", \"p16\", \"p18\", \"p20\"]\n",
    "\n",
    "# Invertir las respuestas en las columnas seleccionadas\n",
    "for variable in variables_invertir:\n",
    "    data[variable] = 5 - data[variable]  # esto \"invierte\" los alores"
   ]
  },
  {
   "cell_type": "markdown",
   "id": "2ed03338",
   "metadata": {},
   "source": [
    "### Patrones\n",
    "\n",
    "Se procede a identificar de patrones constantes o tipo zigzag, ya que por información del cliente estos suelen ser realizados por llenar por llenar las encuestas y no se considera prudente incluirlos en el análisis"
   ]
  },
  {
   "cell_type": "code",
   "execution_count": 5,
   "id": "8f96270d",
   "metadata": {
    "scrolled": true
   },
   "outputs": [],
   "source": [
    "# Selecciona las columnas que contienen las respuestas de los docentes (p1 a p20)\n",
    "respuestas = data.iloc[:, 13:33]\n",
    "\n",
    "# Identifica respuestas constantes por docente\n",
    "respuestas_constantes = respuestas.apply(pd.Series.nunique, axis=1) == 1\n",
    "\n",
    "# Identifica patrones en zigzag por docente\n",
    "patron_zigzag = ((respuestas.diff(axis=1).abs() == 1) & (respuestas.diff(axis=1).notnull())).all(axis=1)\n",
    "\n",
    "# Marca 'Constante' en la columna 'Patron_Respuesta' si todas las respuestas son iguales\n",
    "data.loc[respuestas_constantes, 'Patron_Respuesta'] = 'Constante'\n",
    "\n",
    "# Marca 'Zigzag' en la columna 'Patron_Respuesta' si hay un patrón de zigzag en las respuestas\n",
    "data.loc[patron_zigzag, 'Patron_Respuesta'] = 'Zigzag'"
   ]
  },
  {
   "cell_type": "code",
   "execution_count": 6,
   "id": "6465ea2c",
   "metadata": {},
   "outputs": [],
   "source": [
    "# Se eliminan estos patrones al no ser confiables\n",
    "data = data[data['Patron_Respuesta'] != 'Constante']\n",
    "data = data[data['Patron_Respuesta'] != 'Zigzag']\n",
    "\n",
    "# Se elimina la columna temporal de patrones\n",
    "data.drop(\"Patron_Respuesta\",axis=1, inplace=True)"
   ]
  },
  {
   "cell_type": "markdown",
   "id": "8f9796ce",
   "metadata": {},
   "source": [
    "## Selección de Componentes\n",
    "\n",
    "A partir del análisis realizado anteriormente se decidió dejar únicamente las preguntas que afectan las 12 primeras componentes las cuales son:\n",
    "    ['p7', 'p12', 'p5', 'p15', 'p9', 'p2', 'p17', 'p18', 'p20', 'p6']"
   ]
  },
  {
   "cell_type": "code",
   "execution_count": 7,
   "id": "9a5a60be",
   "metadata": {},
   "outputs": [],
   "source": [
    "#componentes a eliminar:\n",
    "coldrops = ['p1', 'p3', 'p4', 'p8', 'p10', 'p11', 'p13', 'p14', 'p16', 'p19']\n",
    "\n",
    "def select_comp(data):\n",
    "    data_sc = data.drop(coldrops,axis=1)\n",
    "    return data_sc\n",
    "\n",
    "data_sc = select_comp(data)"
   ]
  },
  {
   "cell_type": "markdown",
   "id": "14c8458b",
   "metadata": {},
   "source": [
    "##  Intervalo entre respuestas\n",
    "\n",
    "Validar que un mismo docente no tenga mas de una prueba en menos de 4 meses que dura la intervención minima de un proyecto"
   ]
  },
  {
   "cell_type": "code",
   "execution_count": 8,
   "id": "6c056aad",
   "metadata": {},
   "outputs": [],
   "source": [
    "# Asegúrate de que 'Marca temporal' sea del tipo datetime, si no lo es, conviértela\n",
    "data_sc['Marca temporal'] = pd.to_datetime(data_sc['Marca temporal'])\n",
    "\n",
    "# Ordenar el DataFrame por 'ID' y 'Marca temporal'\n",
    "data_sc = data_sc.sort_values(by=['ID', 'Marca temporal'])\n",
    "\n",
    "# Identificar pruebas realizadas por el mismo docente con menos de 6 meses de diferencia\n",
    "data_sc['Diferencia_meses'] = data_sc.groupby('ID')['Marca temporal'].diff().dt.days // 30\n",
    "\n",
    "# Encuentra los índices de los registros que deben ser excluidos\n",
    "indices_a_eliminar = data_sc[(data_sc['Diferencia_meses'].lt(4) & data_sc['Diferencia_meses'].ge(0))].index\n",
    "\n",
    "# Elimina los registros identificados del DataFrame original\n",
    "data_sc = data_sc.drop(indices_a_eliminar)\n",
    "\n",
    "# Se elimina la columna temporal de diferencia de meses\n",
    "data_sc.drop(\"Diferencia_meses\",axis=1, inplace=True)"
   ]
  },
  {
   "cell_type": "markdown",
   "id": "37513695",
   "metadata": {},
   "source": [
    "##  Eliminar faltantes"
   ]
  },
  {
   "cell_type": "markdown",
   "id": "cbc580e4",
   "metadata": {},
   "source": [
    "Se procede a eliminar los missing en la variable regional en caso de presentarce, ya que para la fundación Future Education es un requisito saber con certeza la regional a la que pertenece un docente:"
   ]
  },
  {
   "cell_type": "code",
   "execution_count": 9,
   "id": "99ac78d5",
   "metadata": {},
   "outputs": [],
   "source": [
    "## Eliminar missing\n",
    "data_sc.dropna(inplace=True, subset = [\"regional\"])"
   ]
  },
  {
   "cell_type": "markdown",
   "id": "90e1a2b4",
   "metadata": {},
   "source": [
    "### Imputación univariada\n",
    "\n",
    "Se procede a corregir errores comunes en los dominios: \n",
    "- departamento: el dominio NINGUNO no es un valor valido y se debe imputar o eliminar.\n",
    "- ubicacioninstitucion: la ubicación ninguna no es valida, debe ser urbana o rural\n",
    "- edades: todos son docentes, maestros o agentes educativos, por lo que todos son mayores de edad; las edades 0 a 6, 7 a 14 y 15 a 17, no son validas, se debe imputar o eliminar.\n",
    "- sexoinscrito: la opción Mujer no es valida, se debe reemplazar por mujer.\n",
    "\n",
    "Esto se realizará con una imputación univariada con estrategia de la más frecuente"
   ]
  },
  {
   "cell_type": "code",
   "execution_count": 10,
   "id": "3615327e",
   "metadata": {},
   "outputs": [],
   "source": [
    "# Reemplazar los valores incorrectos con NaN\n",
    "data_sc[\"departamento\"] = data_sc[\"departamento\"].replace(\"NINGUNO\", np.nan)\n",
    "data_sc[\"ubicacioninstitucion\"] = data_sc[\"ubicacioninstitucion\"].replace(\"ninguna\", np.nan)\n",
    "data_sc[\"edades\"] = data_sc[\"edades\"].replace(\n",
    "    [\"Entre 0 y 6 años\", \"Entre 7 y 14 años\", \"Entre 15 y 17 años\"], np.nan\n",
    ")\n",
    "# Reemplazar los valores Mujer con mujer\n",
    "data_sc[\"sexoinscrito\"] = data_sc[\"sexoinscrito\"].replace(\"Mujer\", \"mujer\")"
   ]
  },
  {
   "cell_type": "code",
   "execution_count": 11,
   "id": "5955faf9",
   "metadata": {},
   "outputs": [],
   "source": [
    "## Imputar con la moda\n",
    "estrategia=\"most_frequent\"\n",
    "\n",
    "imp = SimpleImputer(missing_values=np.nan, strategy=estrategia)\n",
    "#convertir datatime en float para no afectar el fit\n",
    "data_sc['Marca temporal'] = data_sc['Marca temporal'].dt.strftime(\"%Y-%m-%d %H:%M:%S\")\n",
    "\n",
    "imp.fit(data_sc)\n",
    "# Imputar los valores faltantes en el DataFrame\n",
    "data_imputado = pd.DataFrame(imp.transform(data_sc), columns=data_sc.columns)"
   ]
  },
  {
   "cell_type": "markdown",
   "id": "68a0fc42",
   "metadata": {},
   "source": [
    "## Separar y almacenar datos"
   ]
  },
  {
   "cell_type": "markdown",
   "id": "266f3f0c",
   "metadata": {},
   "source": [
    "Se realiza el almacenamiento de los datos y se generan bases con solo los socioeconómicos para visualización y las preguntas para los modelos"
   ]
  },
  {
   "cell_type": "code",
   "execution_count": 12,
   "id": "f0a1b008",
   "metadata": {},
   "outputs": [],
   "source": [
    "col_select=['p7', 'p12', 'p5', 'p15', 'p9', 'p2', 'p17', 'p18', 'p20', 'p6']\n",
    "col_select2=['ID','p7', 'p12', 'p5', 'p15', 'p9', 'p2', 'p17', 'p18', 'p20', 'p6']\n",
    "data_SE = data_imputado.drop(col_select,axis=1)\n",
    "data_p = data_imputado[col_select2]"
   ]
  },
  {
   "cell_type": "code",
   "execution_count": 13,
   "id": "44f2147d",
   "metadata": {},
   "outputs": [],
   "source": [
    "data_imputado.to_excel('data/BD_G22.xlsx')\n",
    "data_p.to_excel('data/BD_G22_P.xlsx')\n",
    "data_SE.to_excel('data/BD_G22_SE.xlsx')"
   ]
  },
  {
   "cell_type": "code",
   "execution_count": null,
   "id": "1973eb45",
   "metadata": {},
   "outputs": [],
   "source": []
  }
 ],
 "metadata": {
  "kernelspec": {
   "display_name": "Python 3 (ipykernel)",
   "language": "python",
   "name": "python3"
  },
  "language_info": {
   "codemirror_mode": {
    "name": "ipython",
    "version": 3
   },
   "file_extension": ".py",
   "mimetype": "text/x-python",
   "name": "python",
   "nbconvert_exporter": "python",
   "pygments_lexer": "ipython3",
   "version": "3.9.12"
  },
  "varInspector": {
   "cols": {
    "lenName": 16,
    "lenType": 16,
    "lenVar": 40
   },
   "kernels_config": {
    "python": {
     "delete_cmd_postfix": "",
     "delete_cmd_prefix": "del ",
     "library": "var_list.py",
     "varRefreshCmd": "print(var_dic_list())"
    },
    "r": {
     "delete_cmd_postfix": ") ",
     "delete_cmd_prefix": "rm(",
     "library": "var_list.r",
     "varRefreshCmd": "cat(var_dic_list()) "
    }
   },
   "types_to_exclude": [
    "module",
    "function",
    "builtin_function_or_method",
    "instance",
    "_Feature"
   ],
   "window_display": false
  }
 },
 "nbformat": 4,
 "nbformat_minor": 5
}
