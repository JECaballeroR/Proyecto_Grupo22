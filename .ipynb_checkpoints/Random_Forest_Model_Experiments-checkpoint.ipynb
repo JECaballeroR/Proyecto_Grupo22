{
 "cells": [
  {
   "cell_type": "markdown",
   "id": "ea4927d3",
   "metadata": {},
   "source": [
    "<div >\n",
    "<img src = \"figs/dsa_banner.png\" />\n",
    "</div>"
   ]
  },
  {
   "cell_type": "markdown",
   "id": "8e55931d",
   "metadata": {},
   "source": [
    "# Preprocesamiento\n",
    "\n",
    "### Integrantes:\n",
    "    - Catalina García García\n",
    "    - Camilo Alejandro Grande Sánchez\n",
    "    - Jesús Alberto Parada Pérez\n",
    "    - Jorge Esteban Caballero Rodríguez\n"
   ]
  },
  {
   "cell_type": "code",
   "execution_count": 4,
   "id": "f385675c",
   "metadata": {},
   "outputs": [],
   "source": [
    "import numpy as np\n",
    "import pandas as pd\n",
    "import mlflow\n",
    "import mlflow.sklearn\n",
    "from sklearn.model_selection import train_test_split\n",
    "from sklearn.ensemble import RandomForestRegressor\n",
    "from sklearn.metrics import mean_squared_error"
   ]
  },
  {
   "cell_type": "markdown",
   "id": "aab15c76",
   "metadata": {},
   "source": [
    "### Importar datos"
   ]
  },
  {
   "cell_type": "code",
   "execution_count": 5,
   "id": "4541f062",
   "metadata": {},
   "outputs": [],
   "source": [
    "#importar conjunto de datos\n",
    "def cargar_datos(filename, nombre_base):\n",
    "    data = pd.read_excel(f\"data/{filename}\",index_col=0)\n",
    "    return data\n",
    "\n",
    "data = cargar_datos(\"BD_G22_P.xlsx\", \"Base de datos:\")    \n",
    "\n",
    "#separar X y y\n",
    "X=data.iloc[:, 1:11]\n",
    "y=data['Puntaje_General_Estandarizado']\n",
    "\n",
    "# Dividir los datos en conjuntos de entrenamiento y prueba (80% entrenamiento, 20% prueba)\n",
    "X_train, X_test, y_train, y_test = train_test_split(X, y, test_size=0.2, random_state=42)"
   ]
  },
  {
   "cell_type": "markdown",
   "id": "f670a682",
   "metadata": {},
   "source": [
    "### MLFLOW"
   ]
  },
  {
   "cell_type": "code",
   "execution_count": null,
   "id": "991f1040",
   "metadata": {},
   "outputs": [],
   "source": [
    "# defina el servidor para llevar el registro de modelos y artefactos\n",
    "mlflow.set_tracking_uri('http://localhost:8080')\n",
    "# registre el experimento\n",
    "experiment = mlflow.set_experiment(\"Random_Forest_Model_Experiments\")\n",
    "\n",
    "# Definir la grilla de hiperparámetros a probar para el RandomForestRegressor\n",
    "\n",
    "n_estimators= [100, 200, 300, 400, 500]\n",
    "max_depths= [None, 5, 10, 15]\n",
    "min_samples_splits= [2, 5, 10]\n",
    "min_samples_leafs= [1, 2, 4]\n",
    "\n",
    "for n_estimator in n_estimators:\n",
    "    for max_depth in max_depths:\n",
    "        for min_samples_split in min_samples_splits:\n",
    "            for min_samples_leaf in min_samples_leafs:\n",
    "                with mlflow.start_run(experiment_id=experiment.experiment_id,\n",
    "                                     run_name =f\"random-forest-model-num_trees{n_estimator}-maxdepth{max_depth}-ssplit{min_samples_split}-sleaf{min_samples_leaf}\"):\n",
    "\n",
    "            \n",
    "                    # Crear el modelo de RandomForestRegressor\n",
    "                    rf = RandomForestRegressor(n_estimators = n_estimator,\n",
    "                                               max_depth = max_depth,\n",
    "                                              min_samples_split  = min_samples_split,\n",
    "                                              min_samples_leaf = min_samples_leaf)\n",
    "                    rf.fit(X_train, y_train)\n",
    "\n",
    "                    predictions = rf.predict(X_test)\n",
    "\n",
    "\n",
    "                        # Registre los parámetros\n",
    "                    mlflow.log_param(\"num_trees\", n_estimator)\n",
    "                    mlflow.log_param(\"maxdepth\", max_depth)\n",
    "                    mlflow.log_param(\"min_samples_split\", min_samples_split)\n",
    "                    mlflow.log_param(\"min_samples_leaf\", min_samples_leaf)\n",
    "\n",
    "                    mlflow.sklearn.log_model(rf, f\"random-forest-model-num_trees{n_estimator}-maxdepth{max_depth}-ssplit{min_samples_split}-sleaf{min_samples_leaf}\")\n",
    "\n",
    "                    mse = mean_squared_error(y_test, predictions)\n",
    "                    mlflow.log_metric(\"mse\", mse)\n",
    "                    print(mse)\n",
    "                    mlflow.end_run()"
   ]
  }
 ],
 "metadata": {
  "kernelspec": {
   "display_name": "Python 3 (ipykernel)",
   "language": "python",
   "name": "python3"
  },
  "language_info": {
   "codemirror_mode": {
    "name": "ipython",
    "version": 3
   },
   "file_extension": ".py",
   "mimetype": "text/x-python",
   "name": "python",
   "nbconvert_exporter": "python",
   "pygments_lexer": "ipython3",
   "version": "3.9.12"
  },
  "varInspector": {
   "cols": {
    "lenName": 16,
    "lenType": 16,
    "lenVar": 40
   },
   "kernels_config": {
    "python": {
     "delete_cmd_postfix": "",
     "delete_cmd_prefix": "del ",
     "library": "var_list.py",
     "varRefreshCmd": "print(var_dic_list())"
    },
    "r": {
     "delete_cmd_postfix": ") ",
     "delete_cmd_prefix": "rm(",
     "library": "var_list.r",
     "varRefreshCmd": "cat(var_dic_list()) "
    }
   },
   "types_to_exclude": [
    "module",
    "function",
    "builtin_function_or_method",
    "instance",
    "_Feature"
   ],
   "window_display": false
  }
 },
 "nbformat": 4,
 "nbformat_minor": 5
}
